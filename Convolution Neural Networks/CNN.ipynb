{
  "nbformat": 4,
  "nbformat_minor": 0,
  "metadata": {
    "colab": {
      "name": "PyTorch_Practice.ipynb",
      "provenance": [],
      "collapsed_sections": []
    },
    "kernelspec": {
      "name": "python3",
      "display_name": "Python 3"
    },
    "accelerator": "GPU",
    "widgets": {
      "application/vnd.jupyter.widget-state+json": {
        "81757842d9a74792b847c1d3e32919c1": {
          "model_module": "@jupyter-widgets/controls",
          "model_name": "HBoxModel",
          "state": {
            "_view_name": "HBoxView",
            "_dom_classes": [],
            "_model_name": "HBoxModel",
            "_view_module": "@jupyter-widgets/controls",
            "_model_module_version": "1.5.0",
            "_view_count": null,
            "_view_module_version": "1.5.0",
            "box_style": "",
            "layout": "IPY_MODEL_9b791148b5774943a28acfe3c7a99b03",
            "_model_module": "@jupyter-widgets/controls",
            "children": [
              "IPY_MODEL_ed6b0dfd9e964163a7924adb064c2f3c",
              "IPY_MODEL_2a7628d6a3ca467b8e8e06e26dd4464f"
            ]
          }
        },
        "9b791148b5774943a28acfe3c7a99b03": {
          "model_module": "@jupyter-widgets/base",
          "model_name": "LayoutModel",
          "state": {
            "_view_name": "LayoutView",
            "grid_template_rows": null,
            "right": null,
            "justify_content": null,
            "_view_module": "@jupyter-widgets/base",
            "overflow": null,
            "_model_module_version": "1.2.0",
            "_view_count": null,
            "flex_flow": null,
            "width": null,
            "min_width": null,
            "border": null,
            "align_items": null,
            "bottom": null,
            "_model_module": "@jupyter-widgets/base",
            "top": null,
            "grid_column": null,
            "overflow_y": null,
            "overflow_x": null,
            "grid_auto_flow": null,
            "grid_area": null,
            "grid_template_columns": null,
            "flex": null,
            "_model_name": "LayoutModel",
            "justify_items": null,
            "grid_row": null,
            "max_height": null,
            "align_content": null,
            "visibility": null,
            "align_self": null,
            "height": null,
            "min_height": null,
            "padding": null,
            "grid_auto_rows": null,
            "grid_gap": null,
            "max_width": null,
            "order": null,
            "_view_module_version": "1.2.0",
            "grid_template_areas": null,
            "object_position": null,
            "object_fit": null,
            "grid_auto_columns": null,
            "margin": null,
            "display": null,
            "left": null
          }
        },
        "ed6b0dfd9e964163a7924adb064c2f3c": {
          "model_module": "@jupyter-widgets/controls",
          "model_name": "FloatProgressModel",
          "state": {
            "_view_name": "ProgressView",
            "style": "IPY_MODEL_209853e11f254ace897915dabbc21590",
            "_dom_classes": [],
            "description": "",
            "_model_name": "FloatProgressModel",
            "bar_style": "info",
            "max": 1,
            "_view_module": "@jupyter-widgets/controls",
            "_model_module_version": "1.5.0",
            "value": 1,
            "_view_count": null,
            "_view_module_version": "1.5.0",
            "orientation": "horizontal",
            "min": 0,
            "description_tooltip": null,
            "_model_module": "@jupyter-widgets/controls",
            "layout": "IPY_MODEL_18db6814ab04421eab655d4a773e2ff5"
          }
        },
        "2a7628d6a3ca467b8e8e06e26dd4464f": {
          "model_module": "@jupyter-widgets/controls",
          "model_name": "HTMLModel",
          "state": {
            "_view_name": "HTMLView",
            "style": "IPY_MODEL_91b3ecd356344952a5e05f0f9ed8a106",
            "_dom_classes": [],
            "description": "",
            "_model_name": "HTMLModel",
            "placeholder": "​",
            "_view_module": "@jupyter-widgets/controls",
            "_model_module_version": "1.5.0",
            "value": " 9920512/? [00:20&lt;00:00, 1488446.74it/s]",
            "_view_count": null,
            "_view_module_version": "1.5.0",
            "description_tooltip": null,
            "_model_module": "@jupyter-widgets/controls",
            "layout": "IPY_MODEL_9e3bc283de58417a84f2f2cf3a62dc9e"
          }
        },
        "209853e11f254ace897915dabbc21590": {
          "model_module": "@jupyter-widgets/controls",
          "model_name": "ProgressStyleModel",
          "state": {
            "_view_name": "StyleView",
            "_model_name": "ProgressStyleModel",
            "description_width": "initial",
            "_view_module": "@jupyter-widgets/base",
            "_model_module_version": "1.5.0",
            "_view_count": null,
            "_view_module_version": "1.2.0",
            "bar_color": null,
            "_model_module": "@jupyter-widgets/controls"
          }
        },
        "18db6814ab04421eab655d4a773e2ff5": {
          "model_module": "@jupyter-widgets/base",
          "model_name": "LayoutModel",
          "state": {
            "_view_name": "LayoutView",
            "grid_template_rows": null,
            "right": null,
            "justify_content": null,
            "_view_module": "@jupyter-widgets/base",
            "overflow": null,
            "_model_module_version": "1.2.0",
            "_view_count": null,
            "flex_flow": null,
            "width": null,
            "min_width": null,
            "border": null,
            "align_items": null,
            "bottom": null,
            "_model_module": "@jupyter-widgets/base",
            "top": null,
            "grid_column": null,
            "overflow_y": null,
            "overflow_x": null,
            "grid_auto_flow": null,
            "grid_area": null,
            "grid_template_columns": null,
            "flex": null,
            "_model_name": "LayoutModel",
            "justify_items": null,
            "grid_row": null,
            "max_height": null,
            "align_content": null,
            "visibility": null,
            "align_self": null,
            "height": null,
            "min_height": null,
            "padding": null,
            "grid_auto_rows": null,
            "grid_gap": null,
            "max_width": null,
            "order": null,
            "_view_module_version": "1.2.0",
            "grid_template_areas": null,
            "object_position": null,
            "object_fit": null,
            "grid_auto_columns": null,
            "margin": null,
            "display": null,
            "left": null
          }
        },
        "91b3ecd356344952a5e05f0f9ed8a106": {
          "model_module": "@jupyter-widgets/controls",
          "model_name": "DescriptionStyleModel",
          "state": {
            "_view_name": "StyleView",
            "_model_name": "DescriptionStyleModel",
            "description_width": "",
            "_view_module": "@jupyter-widgets/base",
            "_model_module_version": "1.5.0",
            "_view_count": null,
            "_view_module_version": "1.2.0",
            "_model_module": "@jupyter-widgets/controls"
          }
        },
        "9e3bc283de58417a84f2f2cf3a62dc9e": {
          "model_module": "@jupyter-widgets/base",
          "model_name": "LayoutModel",
          "state": {
            "_view_name": "LayoutView",
            "grid_template_rows": null,
            "right": null,
            "justify_content": null,
            "_view_module": "@jupyter-widgets/base",
            "overflow": null,
            "_model_module_version": "1.2.0",
            "_view_count": null,
            "flex_flow": null,
            "width": null,
            "min_width": null,
            "border": null,
            "align_items": null,
            "bottom": null,
            "_model_module": "@jupyter-widgets/base",
            "top": null,
            "grid_column": null,
            "overflow_y": null,
            "overflow_x": null,
            "grid_auto_flow": null,
            "grid_area": null,
            "grid_template_columns": null,
            "flex": null,
            "_model_name": "LayoutModel",
            "justify_items": null,
            "grid_row": null,
            "max_height": null,
            "align_content": null,
            "visibility": null,
            "align_self": null,
            "height": null,
            "min_height": null,
            "padding": null,
            "grid_auto_rows": null,
            "grid_gap": null,
            "max_width": null,
            "order": null,
            "_view_module_version": "1.2.0",
            "grid_template_areas": null,
            "object_position": null,
            "object_fit": null,
            "grid_auto_columns": null,
            "margin": null,
            "display": null,
            "left": null
          }
        },
        "0be00cf9e8e147cf93b63589a067e4ca": {
          "model_module": "@jupyter-widgets/controls",
          "model_name": "HBoxModel",
          "state": {
            "_view_name": "HBoxView",
            "_dom_classes": [],
            "_model_name": "HBoxModel",
            "_view_module": "@jupyter-widgets/controls",
            "_model_module_version": "1.5.0",
            "_view_count": null,
            "_view_module_version": "1.5.0",
            "box_style": "",
            "layout": "IPY_MODEL_c4201f5069984c4fa201d1fbe6c7508e",
            "_model_module": "@jupyter-widgets/controls",
            "children": [
              "IPY_MODEL_76793e71a99446659f3ba94fceb31aed",
              "IPY_MODEL_341b9a43bf4847d8b4f9f4f67ef9dfb1"
            ]
          }
        },
        "c4201f5069984c4fa201d1fbe6c7508e": {
          "model_module": "@jupyter-widgets/base",
          "model_name": "LayoutModel",
          "state": {
            "_view_name": "LayoutView",
            "grid_template_rows": null,
            "right": null,
            "justify_content": null,
            "_view_module": "@jupyter-widgets/base",
            "overflow": null,
            "_model_module_version": "1.2.0",
            "_view_count": null,
            "flex_flow": null,
            "width": null,
            "min_width": null,
            "border": null,
            "align_items": null,
            "bottom": null,
            "_model_module": "@jupyter-widgets/base",
            "top": null,
            "grid_column": null,
            "overflow_y": null,
            "overflow_x": null,
            "grid_auto_flow": null,
            "grid_area": null,
            "grid_template_columns": null,
            "flex": null,
            "_model_name": "LayoutModel",
            "justify_items": null,
            "grid_row": null,
            "max_height": null,
            "align_content": null,
            "visibility": null,
            "align_self": null,
            "height": null,
            "min_height": null,
            "padding": null,
            "grid_auto_rows": null,
            "grid_gap": null,
            "max_width": null,
            "order": null,
            "_view_module_version": "1.2.0",
            "grid_template_areas": null,
            "object_position": null,
            "object_fit": null,
            "grid_auto_columns": null,
            "margin": null,
            "display": null,
            "left": null
          }
        },
        "76793e71a99446659f3ba94fceb31aed": {
          "model_module": "@jupyter-widgets/controls",
          "model_name": "FloatProgressModel",
          "state": {
            "_view_name": "ProgressView",
            "style": "IPY_MODEL_947236570d5645528f795f0249bbe1d8",
            "_dom_classes": [],
            "description": "  0%",
            "_model_name": "FloatProgressModel",
            "bar_style": "info",
            "max": 1,
            "_view_module": "@jupyter-widgets/controls",
            "_model_module_version": "1.5.0",
            "value": 0,
            "_view_count": null,
            "_view_module_version": "1.5.0",
            "orientation": "horizontal",
            "min": 0,
            "description_tooltip": null,
            "_model_module": "@jupyter-widgets/controls",
            "layout": "IPY_MODEL_39dc3f44176544dd95ba1189b2cacfae"
          }
        },
        "341b9a43bf4847d8b4f9f4f67ef9dfb1": {
          "model_module": "@jupyter-widgets/controls",
          "model_name": "HTMLModel",
          "state": {
            "_view_name": "HTMLView",
            "style": "IPY_MODEL_a1c37b5dd92049c3a27c393938ff8f80",
            "_dom_classes": [],
            "description": "",
            "_model_name": "HTMLModel",
            "placeholder": "​",
            "_view_module": "@jupyter-widgets/controls",
            "_model_module_version": "1.5.0",
            "value": " 0/28881 [00:00&lt;?, ?it/s]",
            "_view_count": null,
            "_view_module_version": "1.5.0",
            "description_tooltip": null,
            "_model_module": "@jupyter-widgets/controls",
            "layout": "IPY_MODEL_9e19640b07774382ac8bba634fedbbf9"
          }
        },
        "947236570d5645528f795f0249bbe1d8": {
          "model_module": "@jupyter-widgets/controls",
          "model_name": "ProgressStyleModel",
          "state": {
            "_view_name": "StyleView",
            "_model_name": "ProgressStyleModel",
            "description_width": "initial",
            "_view_module": "@jupyter-widgets/base",
            "_model_module_version": "1.5.0",
            "_view_count": null,
            "_view_module_version": "1.2.0",
            "bar_color": null,
            "_model_module": "@jupyter-widgets/controls"
          }
        },
        "39dc3f44176544dd95ba1189b2cacfae": {
          "model_module": "@jupyter-widgets/base",
          "model_name": "LayoutModel",
          "state": {
            "_view_name": "LayoutView",
            "grid_template_rows": null,
            "right": null,
            "justify_content": null,
            "_view_module": "@jupyter-widgets/base",
            "overflow": null,
            "_model_module_version": "1.2.0",
            "_view_count": null,
            "flex_flow": null,
            "width": null,
            "min_width": null,
            "border": null,
            "align_items": null,
            "bottom": null,
            "_model_module": "@jupyter-widgets/base",
            "top": null,
            "grid_column": null,
            "overflow_y": null,
            "overflow_x": null,
            "grid_auto_flow": null,
            "grid_area": null,
            "grid_template_columns": null,
            "flex": null,
            "_model_name": "LayoutModel",
            "justify_items": null,
            "grid_row": null,
            "max_height": null,
            "align_content": null,
            "visibility": null,
            "align_self": null,
            "height": null,
            "min_height": null,
            "padding": null,
            "grid_auto_rows": null,
            "grid_gap": null,
            "max_width": null,
            "order": null,
            "_view_module_version": "1.2.0",
            "grid_template_areas": null,
            "object_position": null,
            "object_fit": null,
            "grid_auto_columns": null,
            "margin": null,
            "display": null,
            "left": null
          }
        },
        "a1c37b5dd92049c3a27c393938ff8f80": {
          "model_module": "@jupyter-widgets/controls",
          "model_name": "DescriptionStyleModel",
          "state": {
            "_view_name": "StyleView",
            "_model_name": "DescriptionStyleModel",
            "description_width": "",
            "_view_module": "@jupyter-widgets/base",
            "_model_module_version": "1.5.0",
            "_view_count": null,
            "_view_module_version": "1.2.0",
            "_model_module": "@jupyter-widgets/controls"
          }
        },
        "9e19640b07774382ac8bba634fedbbf9": {
          "model_module": "@jupyter-widgets/base",
          "model_name": "LayoutModel",
          "state": {
            "_view_name": "LayoutView",
            "grid_template_rows": null,
            "right": null,
            "justify_content": null,
            "_view_module": "@jupyter-widgets/base",
            "overflow": null,
            "_model_module_version": "1.2.0",
            "_view_count": null,
            "flex_flow": null,
            "width": null,
            "min_width": null,
            "border": null,
            "align_items": null,
            "bottom": null,
            "_model_module": "@jupyter-widgets/base",
            "top": null,
            "grid_column": null,
            "overflow_y": null,
            "overflow_x": null,
            "grid_auto_flow": null,
            "grid_area": null,
            "grid_template_columns": null,
            "flex": null,
            "_model_name": "LayoutModel",
            "justify_items": null,
            "grid_row": null,
            "max_height": null,
            "align_content": null,
            "visibility": null,
            "align_self": null,
            "height": null,
            "min_height": null,
            "padding": null,
            "grid_auto_rows": null,
            "grid_gap": null,
            "max_width": null,
            "order": null,
            "_view_module_version": "1.2.0",
            "grid_template_areas": null,
            "object_position": null,
            "object_fit": null,
            "grid_auto_columns": null,
            "margin": null,
            "display": null,
            "left": null
          }
        },
        "9cf12dbb5b074075a92c867edefb6b2e": {
          "model_module": "@jupyter-widgets/controls",
          "model_name": "HBoxModel",
          "state": {
            "_view_name": "HBoxView",
            "_dom_classes": [],
            "_model_name": "HBoxModel",
            "_view_module": "@jupyter-widgets/controls",
            "_model_module_version": "1.5.0",
            "_view_count": null,
            "_view_module_version": "1.5.0",
            "box_style": "",
            "layout": "IPY_MODEL_4466eb0588e24f138521295510090511",
            "_model_module": "@jupyter-widgets/controls",
            "children": [
              "IPY_MODEL_cda521eb9dfb4033b9f5f9d5eb3d99e8",
              "IPY_MODEL_6a17594e25484a24b7b2ea54ed12e2aa"
            ]
          }
        },
        "4466eb0588e24f138521295510090511": {
          "model_module": "@jupyter-widgets/base",
          "model_name": "LayoutModel",
          "state": {
            "_view_name": "LayoutView",
            "grid_template_rows": null,
            "right": null,
            "justify_content": null,
            "_view_module": "@jupyter-widgets/base",
            "overflow": null,
            "_model_module_version": "1.2.0",
            "_view_count": null,
            "flex_flow": null,
            "width": null,
            "min_width": null,
            "border": null,
            "align_items": null,
            "bottom": null,
            "_model_module": "@jupyter-widgets/base",
            "top": null,
            "grid_column": null,
            "overflow_y": null,
            "overflow_x": null,
            "grid_auto_flow": null,
            "grid_area": null,
            "grid_template_columns": null,
            "flex": null,
            "_model_name": "LayoutModel",
            "justify_items": null,
            "grid_row": null,
            "max_height": null,
            "align_content": null,
            "visibility": null,
            "align_self": null,
            "height": null,
            "min_height": null,
            "padding": null,
            "grid_auto_rows": null,
            "grid_gap": null,
            "max_width": null,
            "order": null,
            "_view_module_version": "1.2.0",
            "grid_template_areas": null,
            "object_position": null,
            "object_fit": null,
            "grid_auto_columns": null,
            "margin": null,
            "display": null,
            "left": null
          }
        },
        "cda521eb9dfb4033b9f5f9d5eb3d99e8": {
          "model_module": "@jupyter-widgets/controls",
          "model_name": "FloatProgressModel",
          "state": {
            "_view_name": "ProgressView",
            "style": "IPY_MODEL_07621c188ac2489b8884196768155cb2",
            "_dom_classes": [],
            "description": "",
            "_model_name": "FloatProgressModel",
            "bar_style": "info",
            "max": 1,
            "_view_module": "@jupyter-widgets/controls",
            "_model_module_version": "1.5.0",
            "value": 1,
            "_view_count": null,
            "_view_module_version": "1.5.0",
            "orientation": "horizontal",
            "min": 0,
            "description_tooltip": null,
            "_model_module": "@jupyter-widgets/controls",
            "layout": "IPY_MODEL_4bf446e07f514d44946b0ce63de6559e"
          }
        },
        "6a17594e25484a24b7b2ea54ed12e2aa": {
          "model_module": "@jupyter-widgets/controls",
          "model_name": "HTMLModel",
          "state": {
            "_view_name": "HTMLView",
            "style": "IPY_MODEL_3b38149fb12f4a41ac75635572935b2e",
            "_dom_classes": [],
            "description": "",
            "_model_name": "HTMLModel",
            "placeholder": "​",
            "_view_module": "@jupyter-widgets/controls",
            "_model_module_version": "1.5.0",
            "value": " 1654784/? [00:18&lt;00:00, 287863.68it/s]",
            "_view_count": null,
            "_view_module_version": "1.5.0",
            "description_tooltip": null,
            "_model_module": "@jupyter-widgets/controls",
            "layout": "IPY_MODEL_b0ecf9b20ec44759ae1e175f463dfcf7"
          }
        },
        "07621c188ac2489b8884196768155cb2": {
          "model_module": "@jupyter-widgets/controls",
          "model_name": "ProgressStyleModel",
          "state": {
            "_view_name": "StyleView",
            "_model_name": "ProgressStyleModel",
            "description_width": "initial",
            "_view_module": "@jupyter-widgets/base",
            "_model_module_version": "1.5.0",
            "_view_count": null,
            "_view_module_version": "1.2.0",
            "bar_color": null,
            "_model_module": "@jupyter-widgets/controls"
          }
        },
        "4bf446e07f514d44946b0ce63de6559e": {
          "model_module": "@jupyter-widgets/base",
          "model_name": "LayoutModel",
          "state": {
            "_view_name": "LayoutView",
            "grid_template_rows": null,
            "right": null,
            "justify_content": null,
            "_view_module": "@jupyter-widgets/base",
            "overflow": null,
            "_model_module_version": "1.2.0",
            "_view_count": null,
            "flex_flow": null,
            "width": null,
            "min_width": null,
            "border": null,
            "align_items": null,
            "bottom": null,
            "_model_module": "@jupyter-widgets/base",
            "top": null,
            "grid_column": null,
            "overflow_y": null,
            "overflow_x": null,
            "grid_auto_flow": null,
            "grid_area": null,
            "grid_template_columns": null,
            "flex": null,
            "_model_name": "LayoutModel",
            "justify_items": null,
            "grid_row": null,
            "max_height": null,
            "align_content": null,
            "visibility": null,
            "align_self": null,
            "height": null,
            "min_height": null,
            "padding": null,
            "grid_auto_rows": null,
            "grid_gap": null,
            "max_width": null,
            "order": null,
            "_view_module_version": "1.2.0",
            "grid_template_areas": null,
            "object_position": null,
            "object_fit": null,
            "grid_auto_columns": null,
            "margin": null,
            "display": null,
            "left": null
          }
        },
        "3b38149fb12f4a41ac75635572935b2e": {
          "model_module": "@jupyter-widgets/controls",
          "model_name": "DescriptionStyleModel",
          "state": {
            "_view_name": "StyleView",
            "_model_name": "DescriptionStyleModel",
            "description_width": "",
            "_view_module": "@jupyter-widgets/base",
            "_model_module_version": "1.5.0",
            "_view_count": null,
            "_view_module_version": "1.2.0",
            "_model_module": "@jupyter-widgets/controls"
          }
        },
        "b0ecf9b20ec44759ae1e175f463dfcf7": {
          "model_module": "@jupyter-widgets/base",
          "model_name": "LayoutModel",
          "state": {
            "_view_name": "LayoutView",
            "grid_template_rows": null,
            "right": null,
            "justify_content": null,
            "_view_module": "@jupyter-widgets/base",
            "overflow": null,
            "_model_module_version": "1.2.0",
            "_view_count": null,
            "flex_flow": null,
            "width": null,
            "min_width": null,
            "border": null,
            "align_items": null,
            "bottom": null,
            "_model_module": "@jupyter-widgets/base",
            "top": null,
            "grid_column": null,
            "overflow_y": null,
            "overflow_x": null,
            "grid_auto_flow": null,
            "grid_area": null,
            "grid_template_columns": null,
            "flex": null,
            "_model_name": "LayoutModel",
            "justify_items": null,
            "grid_row": null,
            "max_height": null,
            "align_content": null,
            "visibility": null,
            "align_self": null,
            "height": null,
            "min_height": null,
            "padding": null,
            "grid_auto_rows": null,
            "grid_gap": null,
            "max_width": null,
            "order": null,
            "_view_module_version": "1.2.0",
            "grid_template_areas": null,
            "object_position": null,
            "object_fit": null,
            "grid_auto_columns": null,
            "margin": null,
            "display": null,
            "left": null
          }
        },
        "3f5c6b8422c242a1ac68d9cb9ecd6133": {
          "model_module": "@jupyter-widgets/controls",
          "model_name": "HBoxModel",
          "state": {
            "_view_name": "HBoxView",
            "_dom_classes": [],
            "_model_name": "HBoxModel",
            "_view_module": "@jupyter-widgets/controls",
            "_model_module_version": "1.5.0",
            "_view_count": null,
            "_view_module_version": "1.5.0",
            "box_style": "",
            "layout": "IPY_MODEL_d4bbd454a1544c79bb7c3cb536d8a2ea",
            "_model_module": "@jupyter-widgets/controls",
            "children": [
              "IPY_MODEL_2b035054379c4e95ba1236303bce8dc1",
              "IPY_MODEL_c29a9c818fd842dd91e8e54afb2c1d25"
            ]
          }
        },
        "d4bbd454a1544c79bb7c3cb536d8a2ea": {
          "model_module": "@jupyter-widgets/base",
          "model_name": "LayoutModel",
          "state": {
            "_view_name": "LayoutView",
            "grid_template_rows": null,
            "right": null,
            "justify_content": null,
            "_view_module": "@jupyter-widgets/base",
            "overflow": null,
            "_model_module_version": "1.2.0",
            "_view_count": null,
            "flex_flow": null,
            "width": null,
            "min_width": null,
            "border": null,
            "align_items": null,
            "bottom": null,
            "_model_module": "@jupyter-widgets/base",
            "top": null,
            "grid_column": null,
            "overflow_y": null,
            "overflow_x": null,
            "grid_auto_flow": null,
            "grid_area": null,
            "grid_template_columns": null,
            "flex": null,
            "_model_name": "LayoutModel",
            "justify_items": null,
            "grid_row": null,
            "max_height": null,
            "align_content": null,
            "visibility": null,
            "align_self": null,
            "height": null,
            "min_height": null,
            "padding": null,
            "grid_auto_rows": null,
            "grid_gap": null,
            "max_width": null,
            "order": null,
            "_view_module_version": "1.2.0",
            "grid_template_areas": null,
            "object_position": null,
            "object_fit": null,
            "grid_auto_columns": null,
            "margin": null,
            "display": null,
            "left": null
          }
        },
        "2b035054379c4e95ba1236303bce8dc1": {
          "model_module": "@jupyter-widgets/controls",
          "model_name": "FloatProgressModel",
          "state": {
            "_view_name": "ProgressView",
            "style": "IPY_MODEL_f178a2e8087043ff9bff0100b47ca878",
            "_dom_classes": [],
            "description": "  0%",
            "_model_name": "FloatProgressModel",
            "bar_style": "info",
            "max": 1,
            "_view_module": "@jupyter-widgets/controls",
            "_model_module_version": "1.5.0",
            "value": 0,
            "_view_count": null,
            "_view_module_version": "1.5.0",
            "orientation": "horizontal",
            "min": 0,
            "description_tooltip": null,
            "_model_module": "@jupyter-widgets/controls",
            "layout": "IPY_MODEL_3be0c6c1783240a390acfc697fbd28cd"
          }
        },
        "c29a9c818fd842dd91e8e54afb2c1d25": {
          "model_module": "@jupyter-widgets/controls",
          "model_name": "HTMLModel",
          "state": {
            "_view_name": "HTMLView",
            "style": "IPY_MODEL_bc7ad66e0cd74e19800e1400b5487559",
            "_dom_classes": [],
            "description": "",
            "_model_name": "HTMLModel",
            "placeholder": "​",
            "_view_module": "@jupyter-widgets/controls",
            "_model_module_version": "1.5.0",
            "value": " 0/4542 [00:00&lt;?, ?it/s]",
            "_view_count": null,
            "_view_module_version": "1.5.0",
            "description_tooltip": null,
            "_model_module": "@jupyter-widgets/controls",
            "layout": "IPY_MODEL_56d58db82c174301829cb0e5b0006e8d"
          }
        },
        "f178a2e8087043ff9bff0100b47ca878": {
          "model_module": "@jupyter-widgets/controls",
          "model_name": "ProgressStyleModel",
          "state": {
            "_view_name": "StyleView",
            "_model_name": "ProgressStyleModel",
            "description_width": "initial",
            "_view_module": "@jupyter-widgets/base",
            "_model_module_version": "1.5.0",
            "_view_count": null,
            "_view_module_version": "1.2.0",
            "bar_color": null,
            "_model_module": "@jupyter-widgets/controls"
          }
        },
        "3be0c6c1783240a390acfc697fbd28cd": {
          "model_module": "@jupyter-widgets/base",
          "model_name": "LayoutModel",
          "state": {
            "_view_name": "LayoutView",
            "grid_template_rows": null,
            "right": null,
            "justify_content": null,
            "_view_module": "@jupyter-widgets/base",
            "overflow": null,
            "_model_module_version": "1.2.0",
            "_view_count": null,
            "flex_flow": null,
            "width": null,
            "min_width": null,
            "border": null,
            "align_items": null,
            "bottom": null,
            "_model_module": "@jupyter-widgets/base",
            "top": null,
            "grid_column": null,
            "overflow_y": null,
            "overflow_x": null,
            "grid_auto_flow": null,
            "grid_area": null,
            "grid_template_columns": null,
            "flex": null,
            "_model_name": "LayoutModel",
            "justify_items": null,
            "grid_row": null,
            "max_height": null,
            "align_content": null,
            "visibility": null,
            "align_self": null,
            "height": null,
            "min_height": null,
            "padding": null,
            "grid_auto_rows": null,
            "grid_gap": null,
            "max_width": null,
            "order": null,
            "_view_module_version": "1.2.0",
            "grid_template_areas": null,
            "object_position": null,
            "object_fit": null,
            "grid_auto_columns": null,
            "margin": null,
            "display": null,
            "left": null
          }
        },
        "bc7ad66e0cd74e19800e1400b5487559": {
          "model_module": "@jupyter-widgets/controls",
          "model_name": "DescriptionStyleModel",
          "state": {
            "_view_name": "StyleView",
            "_model_name": "DescriptionStyleModel",
            "description_width": "",
            "_view_module": "@jupyter-widgets/base",
            "_model_module_version": "1.5.0",
            "_view_count": null,
            "_view_module_version": "1.2.0",
            "_model_module": "@jupyter-widgets/controls"
          }
        },
        "56d58db82c174301829cb0e5b0006e8d": {
          "model_module": "@jupyter-widgets/base",
          "model_name": "LayoutModel",
          "state": {
            "_view_name": "LayoutView",
            "grid_template_rows": null,
            "right": null,
            "justify_content": null,
            "_view_module": "@jupyter-widgets/base",
            "overflow": null,
            "_model_module_version": "1.2.0",
            "_view_count": null,
            "flex_flow": null,
            "width": null,
            "min_width": null,
            "border": null,
            "align_items": null,
            "bottom": null,
            "_model_module": "@jupyter-widgets/base",
            "top": null,
            "grid_column": null,
            "overflow_y": null,
            "overflow_x": null,
            "grid_auto_flow": null,
            "grid_area": null,
            "grid_template_columns": null,
            "flex": null,
            "_model_name": "LayoutModel",
            "justify_items": null,
            "grid_row": null,
            "max_height": null,
            "align_content": null,
            "visibility": null,
            "align_self": null,
            "height": null,
            "min_height": null,
            "padding": null,
            "grid_auto_rows": null,
            "grid_gap": null,
            "max_width": null,
            "order": null,
            "_view_module_version": "1.2.0",
            "grid_template_areas": null,
            "object_position": null,
            "object_fit": null,
            "grid_auto_columns": null,
            "margin": null,
            "display": null,
            "left": null
          }
        }
      }
    }
  },
  "cells": [
    {
      "cell_type": "markdown",
      "metadata": {
        "id": "TvJOOX6nOW32"
      },
      "source": [
        "**IMPORTING NECESSARY LIBRARIES**"
      ]
    },
    {
      "cell_type": "code",
      "metadata": {
        "id": "_gT-LFuh9qS5"
      },
      "source": [
        "import torch\n",
        "import torch.nn as nn\n",
        "import torchvision\n",
        "import torchvision.datasets as datasets\n",
        "import torchvision.transforms as transforms\n",
        "import matplotlib.pyplot as plt\n",
        "import numpy as np\n",
        "%matplotlib inline"
      ],
      "execution_count": null,
      "outputs": []
    },
    {
      "cell_type": "markdown",
      "metadata": {
        "id": "lW2XOf2vOd7e"
      },
      "source": [
        "**DOWNLOADING THE MNIST DATASET AND LOADING IT**"
      ]
    },
    {
      "cell_type": "code",
      "metadata": {
        "id": "twmmCeaL_0Wu",
        "outputId": "3488bbad-afca-426a-8b36-d148bfc78038",
        "colab": {
          "base_uri": "https://localhost:8080/",
          "height": 369,
          "referenced_widgets": [
            "81757842d9a74792b847c1d3e32919c1",
            "9b791148b5774943a28acfe3c7a99b03",
            "ed6b0dfd9e964163a7924adb064c2f3c",
            "2a7628d6a3ca467b8e8e06e26dd4464f",
            "209853e11f254ace897915dabbc21590",
            "18db6814ab04421eab655d4a773e2ff5",
            "91b3ecd356344952a5e05f0f9ed8a106",
            "9e3bc283de58417a84f2f2cf3a62dc9e",
            "0be00cf9e8e147cf93b63589a067e4ca",
            "c4201f5069984c4fa201d1fbe6c7508e",
            "76793e71a99446659f3ba94fceb31aed",
            "341b9a43bf4847d8b4f9f4f67ef9dfb1",
            "947236570d5645528f795f0249bbe1d8",
            "39dc3f44176544dd95ba1189b2cacfae",
            "a1c37b5dd92049c3a27c393938ff8f80",
            "9e19640b07774382ac8bba634fedbbf9",
            "9cf12dbb5b074075a92c867edefb6b2e",
            "4466eb0588e24f138521295510090511",
            "cda521eb9dfb4033b9f5f9d5eb3d99e8",
            "6a17594e25484a24b7b2ea54ed12e2aa",
            "07621c188ac2489b8884196768155cb2",
            "4bf446e07f514d44946b0ce63de6559e",
            "3b38149fb12f4a41ac75635572935b2e",
            "b0ecf9b20ec44759ae1e175f463dfcf7",
            "3f5c6b8422c242a1ac68d9cb9ecd6133",
            "d4bbd454a1544c79bb7c3cb536d8a2ea",
            "2b035054379c4e95ba1236303bce8dc1",
            "c29a9c818fd842dd91e8e54afb2c1d25",
            "f178a2e8087043ff9bff0100b47ca878",
            "3be0c6c1783240a390acfc697fbd28cd",
            "bc7ad66e0cd74e19800e1400b5487559",
            "56d58db82c174301829cb0e5b0006e8d"
          ]
        }
      },
      "source": [
        "transform = transforms.Compose([transforms.ToTensor()])\n",
        "\n",
        "train_dataset = datasets.MNIST(root='./dataset',\n",
        "                              train = True ,\n",
        "                               transform = transform,\n",
        "                               download = True)\n",
        "\n",
        "test_dataset = datasets.MNIST(root='./dataset',\n",
        "                              train = False ,\n",
        "                              transform = transform,\n",
        "                              download = True)"
      ],
      "execution_count": null,
      "outputs": [
        {
          "output_type": "stream",
          "text": [
            "Downloading http://yann.lecun.com/exdb/mnist/train-images-idx3-ubyte.gz to ./dataset/MNIST/raw/train-images-idx3-ubyte.gz\n"
          ],
          "name": "stdout"
        },
        {
          "output_type": "display_data",
          "data": {
            "application/vnd.jupyter.widget-view+json": {
              "model_id": "81757842d9a74792b847c1d3e32919c1",
              "version_minor": 0,
              "version_major": 2
            },
            "text/plain": [
              "HBox(children=(FloatProgress(value=1.0, bar_style='info', max=1.0), HTML(value='')))"
            ]
          },
          "metadata": {
            "tags": []
          }
        },
        {
          "output_type": "stream",
          "text": [
            "Extracting ./dataset/MNIST/raw/train-images-idx3-ubyte.gz to ./dataset/MNIST/raw\n",
            "Downloading http://yann.lecun.com/exdb/mnist/train-labels-idx1-ubyte.gz to ./dataset/MNIST/raw/train-labels-idx1-ubyte.gz\n"
          ],
          "name": "stdout"
        },
        {
          "output_type": "display_data",
          "data": {
            "application/vnd.jupyter.widget-view+json": {
              "model_id": "0be00cf9e8e147cf93b63589a067e4ca",
              "version_minor": 0,
              "version_major": 2
            },
            "text/plain": [
              "HBox(children=(FloatProgress(value=1.0, bar_style='info', max=1.0), HTML(value='')))"
            ]
          },
          "metadata": {
            "tags": []
          }
        },
        {
          "output_type": "stream",
          "text": [
            "Extracting ./dataset/MNIST/raw/train-labels-idx1-ubyte.gz to ./dataset/MNIST/raw\n",
            "Downloading http://yann.lecun.com/exdb/mnist/t10k-images-idx3-ubyte.gz to ./dataset/MNIST/raw/t10k-images-idx3-ubyte.gz\n"
          ],
          "name": "stdout"
        },
        {
          "output_type": "display_data",
          "data": {
            "application/vnd.jupyter.widget-view+json": {
              "model_id": "9cf12dbb5b074075a92c867edefb6b2e",
              "version_minor": 0,
              "version_major": 2
            },
            "text/plain": [
              "HBox(children=(FloatProgress(value=1.0, bar_style='info', max=1.0), HTML(value='')))"
            ]
          },
          "metadata": {
            "tags": []
          }
        },
        {
          "output_type": "stream",
          "text": [
            "Extracting ./dataset/MNIST/raw/t10k-images-idx3-ubyte.gz to ./dataset/MNIST/raw\n",
            "Downloading http://yann.lecun.com/exdb/mnist/t10k-labels-idx1-ubyte.gz to ./dataset/MNIST/raw/t10k-labels-idx1-ubyte.gz\n"
          ],
          "name": "stdout"
        },
        {
          "output_type": "display_data",
          "data": {
            "application/vnd.jupyter.widget-view+json": {
              "model_id": "3f5c6b8422c242a1ac68d9cb9ecd6133",
              "version_minor": 0,
              "version_major": 2
            },
            "text/plain": [
              "HBox(children=(FloatProgress(value=1.0, bar_style='info', max=1.0), HTML(value='')))"
            ]
          },
          "metadata": {
            "tags": []
          }
        },
        {
          "output_type": "stream",
          "text": [
            "Extracting ./dataset/MNIST/raw/t10k-labels-idx1-ubyte.gz to ./dataset/MNIST/raw\n",
            "Processing...\n",
            "Done!\n"
          ],
          "name": "stdout"
        },
        {
          "output_type": "stream",
          "text": [
            "/usr/local/lib/python3.6/dist-packages/torchvision/datasets/mnist.py:469: UserWarning: The given NumPy array is not writeable, and PyTorch does not support non-writeable tensors. This means you can write to the underlying (supposedly non-writeable) NumPy array using the tensor. You may want to copy the array to protect its data or make it writeable before converting it to a tensor. This type of warning will be suppressed for the rest of this program. (Triggered internally at  /pytorch/torch/csrc/utils/tensor_numpy.cpp:141.)\n",
            "  return torch.from_numpy(parsed.astype(m[2], copy=False)).view(*s)\n"
          ],
          "name": "stderr"
        }
      ]
    },
    {
      "cell_type": "code",
      "metadata": {
        "id": "wMurN87NCqXN"
      },
      "source": [
        "batch_size = 100\n",
        "\n",
        "train_loader = torch.utils.data.DataLoader(dataset=train_dataset,\n",
        "                                           batch_size=batch_size,\n",
        "                                           shuffle=True)\n",
        "\n",
        "test_loader = torch.utils.data.DataLoader(dataset=test_dataset,\n",
        "                                          batch_size=batch_size,\n",
        "                                          shuffle=True)"
      ],
      "execution_count": null,
      "outputs": []
    },
    {
      "cell_type": "markdown",
      "metadata": {
        "id": "hTPJW4UJOnUp"
      },
      "source": [
        "**VISUALIZING SOME IMAGES**"
      ]
    },
    {
      "cell_type": "code",
      "metadata": {
        "id": "zMmqFK2YEO56",
        "outputId": "a7d99006-495c-4eea-d3b9-b16dd974eb15",
        "colab": {
          "base_uri": "https://localhost:8080/",
          "height": 285
        }
      },
      "source": [
        "f,a = plt.subplots(2,2)\n",
        "\n",
        "img = np.array(train_dataset[25][0])\n",
        "img = img.reshape((28,28))\n",
        "a[0,0].imshow(img)\n",
        "\n",
        "img = np.array(train_dataset[26][0])\n",
        "img = img.reshape((28,28))\n",
        "a[0,1].imshow(img)\n",
        "\n",
        "img = np.array(train_dataset[27][0])\n",
        "img = img.reshape((28,28))\n",
        "a[1,0].imshow(img)\n",
        "\n",
        "img = np.array(train_dataset[28][0])\n",
        "img = img.reshape((28,28))\n",
        "a[1,1].imshow(img)"
      ],
      "execution_count": null,
      "outputs": [
        {
          "output_type": "execute_result",
          "data": {
            "text/plain": [
              "<matplotlib.image.AxesImage at 0x7f9e9f586f98>"
            ]
          },
          "metadata": {
            "tags": []
          },
          "execution_count": 6
        },
        {
          "output_type": "display_data",
          "data": {
            "image/png": "[encoded data removed]",
            "text/plain": [
              "<Figure size 432x288 with 4 Axes>"
            ]
          },
          "metadata": {
            "tags": [],
            "needs_background": "light"
          }
        }
      ]
    },
    {
      "cell_type": "markdown",
      "metadata": {
        "id": "d9hIXV-iOref"
      },
      "source": [
        "**BUILDING THE MODEL**"
      ]
    },
    {
      "cell_type": "code",
      "metadata": {
        "id": "uD8J3LsMFH1G"
      },
      "source": [
        "class CNN(nn.Module):\n",
        "    def __init__(self):\n",
        "        super(CNN,self).__init__()\n",
        "        self.cnn1 = nn.Conv2d(in_channels=1, out_channels=8, kernel_size=3,stride=1, padding=1)\n",
        "        self.batchnorm1 = nn.BatchNorm2d(8)\n",
        "        self.relu = nn.ReLU()\n",
        "        self.maxpool = nn.MaxPool2d(kernel_size=2)\n",
        "        self.cnn2 = nn.Conv2d(in_channels=8, out_channels=32, kernel_size=5, stride=1, padding=2)\n",
        "        self.batchnorm2 = nn.BatchNorm2d(32)\n",
        "        self.fc1 = nn.Linear(in_features=1568, out_features=600)\n",
        "        self.droput = nn.Dropout(p=0.5)\n",
        "        self.fc2 = nn.Linear(in_features=600, out_features=10)\n",
        "    def forward(self,x):\n",
        "        out = self.cnn1(x)\n",
        "        out = self.batchnorm1(out)\n",
        "        out = self.relu(out)\n",
        "        out = self.maxpool(out)\n",
        "        out = self.cnn2(out)\n",
        "        out = self.batchnorm2(out)\n",
        "        out = self.relu(out)\n",
        "        out = self.maxpool(out)\n",
        "        out = out.view(-1,1568)\n",
        "        out = self.fc1(out)\n",
        "        out = self.relu(out)\n",
        "        out = self.droput(out)\n",
        "        out = self.fc2(out)\n",
        "        return out"
      ],
      "execution_count": null,
      "outputs": []
    },
    {
      "cell_type": "code",
      "metadata": {
        "id": "yTyNLrsBI4YL"
      },
      "source": [
        "model = CNN()\n",
        "loss_function = nn.CrossEntropyLoss()\n",
        "optimizer = torch.optim.Adam(model.parameters(),lr=0.001)\n",
        "CUDA = torch.cuda.is_available()\n",
        "if CUDA:\n",
        "  model = model.cuda()"
      ],
      "execution_count": null,
      "outputs": []
    },
    {
      "cell_type": "markdown",
      "metadata": {
        "id": "sikAhUJ1OyZP"
      },
      "source": [
        "**TRAINING THE MODEL**"
      ]
    },
    {
      "cell_type": "code",
      "metadata": {
        "id": "ASG6tmiuBfor",
        "outputId": "064dc07f-e495-492f-9db6-0f91a39c45f9",
        "colab": {
          "base_uri": "https://localhost:8080/",
          "height": 1000
        }
      },
      "source": [
        "epochs = 50\n",
        "train_loss = []\n",
        "train_acc = []\n",
        "test_loss = []\n",
        "test_acc = []\n",
        "\n",
        "for epoch in range(epochs):\n",
        "  correct = 0\n",
        "  iterations = 0\n",
        "  iter = 0.0\n",
        "\n",
        "  for batch , (images,labels) in enumerate(train_loader):\n",
        "\n",
        "    if CUDA:\n",
        "      images = images.cuda()\n",
        "      labels = labels.cuda()\n",
        "\n",
        "    outputs = model(images)\n",
        "\n",
        "    loss = loss_function(outputs,labels)\n",
        "    iter = iter + loss.item()\n",
        "\n",
        "    optimizer.zero_grad()\n",
        "\n",
        "    loss.backward()\n",
        "    optimizer.step()\n",
        "    _,pred = torch.max(outputs,1)\n",
        "    correct = correct + (labels==pred).sum().item()\n",
        "\n",
        "    iterations +=1\n",
        "  print('-----------EPOCH '+str(epoch+1)+'------------')\n",
        "  train_loss.append(iter/iterations)\n",
        "  train_acc.append(correct/len(train_dataset))\n",
        "  print('TRAINING LOSS = ' + str(train_loss[epoch]))\n",
        "  print('TRAINING ACCURACY = ' + str(train_acc[epoch]))\n",
        "\n",
        "  correct = 0\n",
        "  iter = 0.0\n",
        "  iterations = 0\n",
        "\n",
        "  for batch , (images,labels) in enumerate(test_loader):\n",
        "    if CUDA:\n",
        "      images = images.cuda()\n",
        "      labels = labels.cuda()\n",
        "\n",
        "    outputs = model(images)\n",
        "\n",
        "    _,pred = torch.max(outputs,1)\n",
        "    correct = correct + (labels==pred).sum().item()\n",
        "    loss = loss_function(outputs,labels)\n",
        "    iter = iter + loss.item()\n",
        "    iterations += 1\n",
        "\n",
        "  test_loss.append(iter/iterations)\n",
        "  test_acc.append(correct/len(test_dataset))\n",
        "  print('TEST LOSS = ' + str(test_loss[epoch]))\n",
        "  print('TESTING ACCURACY = ' + str(test_acc[epoch]))\n",
        "  print('------------------------------------')\n"
      ],
      "execution_count": null,
      "outputs": [
        {
          "output_type": "stream",
          "text": [
            "-----------EPOCH 1------------\n",
            "TRAINING LOSS = 0.03773403216754862\n",
            "TRAINING ACCURACY = 0.9877\n",
            "TEST LOSS = 0.044489275170490145\n",
            "TESTING ACCURACY = 0.9864\n",
            "------------------------------------\n",
            "-----------EPOCH 2------------\n",
            "TRAINING LOSS = 0.03149851648049662\n",
            "TRAINING ACCURACY = 0.9893\n",
            "TEST LOSS = 0.03636432586528827\n",
            "TESTING ACCURACY = 0.9879\n",
            "------------------------------------\n",
            "-----------EPOCH 3------------\n",
            "TRAINING LOSS = 0.027108346000604796\n",
            "TRAINING ACCURACY = 0.9915666666666667\n",
            "TEST LOSS = 0.04135726084117777\n",
            "TESTING ACCURACY = 0.9865\n",
            "------------------------------------\n",
            "-----------EPOCH 4------------\n",
            "TRAINING LOSS = 0.02352444375731769\n",
            "TRAINING ACCURACY = 0.9924\n",
            "TEST LOSS = 0.03867308839573525\n",
            "TESTING ACCURACY = 0.9877\n",
            "------------------------------------\n",
            "-----------EPOCH 5------------\n",
            "TRAINING LOSS = 0.019059745932299848\n",
            "TRAINING ACCURACY = 0.9935666666666667\n",
            "TEST LOSS = 0.03894146756036207\n",
            "TESTING ACCURACY = 0.9865\n",
            "------------------------------------\n",
            "-----------EPOCH 6------------\n",
            "TRAINING LOSS = 0.019897430244479136\n",
            "TRAINING ACCURACY = 0.9934666666666667\n",
            "TEST LOSS = 0.04313482805300737\n",
            "TESTING ACCURACY = 0.9873\n",
            "------------------------------------\n",
            "-----------EPOCH 7------------\n",
            "TRAINING LOSS = 0.017381817323681995\n",
            "TRAINING ACCURACY = 0.9941\n",
            "TEST LOSS = 0.03368761549005285\n",
            "TESTING ACCURACY = 0.9896\n",
            "------------------------------------\n",
            "-----------EPOCH 8------------\n",
            "TRAINING LOSS = 0.014551889332551582\n",
            "TRAINING ACCURACY = 0.9950833333333333\n",
            "TEST LOSS = 0.042616309920704226\n",
            "TESTING ACCURACY = 0.9887\n",
            "------------------------------------\n",
            "-----------EPOCH 9------------\n",
            "TRAINING LOSS = 0.012072510681937274\n",
            "TRAINING ACCURACY = 0.99615\n",
            "TEST LOSS = 0.04279500883101719\n",
            "TESTING ACCURACY = 0.9883\n",
            "------------------------------------\n",
            "-----------EPOCH 10------------\n",
            "TRAINING LOSS = 0.013382068670580338\n",
            "TRAINING ACCURACY = 0.9954833333333334\n",
            "TEST LOSS = 0.04599109149188735\n",
            "TESTING ACCURACY = 0.9878\n",
            "------------------------------------\n",
            "-----------EPOCH 11------------\n",
            "TRAINING LOSS = 0.011308276544095861\n",
            "TRAINING ACCURACY = 0.9961166666666667\n",
            "TEST LOSS = 0.06211795996640831\n",
            "TESTING ACCURACY = 0.9855\n",
            "------------------------------------\n",
            "-----------EPOCH 12------------\n",
            "TRAINING LOSS = 0.010822091830080656\n",
            "TRAINING ACCURACY = 0.9963333333333333\n",
            "TEST LOSS = 0.04303458673290152\n",
            "TESTING ACCURACY = 0.988\n",
            "------------------------------------\n",
            "-----------EPOCH 13------------\n",
            "TRAINING LOSS = 0.010124145908154485\n",
            "TRAINING ACCURACY = 0.9966666666666667\n",
            "TEST LOSS = 0.043293604976079224\n",
            "TESTING ACCURACY = 0.9888\n",
            "------------------------------------\n",
            "-----------EPOCH 14------------\n",
            "TRAINING LOSS = 0.00997152986484707\n",
            "TRAINING ACCURACY = 0.99675\n",
            "TEST LOSS = 0.03892199069625349\n",
            "TESTING ACCURACY = 0.9902\n",
            "------------------------------------\n",
            "-----------EPOCH 15------------\n",
            "TRAINING LOSS = 0.008569056086638133\n",
            "TRAINING ACCURACY = 0.9971666666666666\n",
            "TEST LOSS = 0.035584502338533636\n",
            "TESTING ACCURACY = 0.9896\n",
            "------------------------------------\n",
            "-----------EPOCH 16------------\n",
            "TRAINING LOSS = 0.007712822925982437\n",
            "TRAINING ACCURACY = 0.9975166666666667\n",
            "TEST LOSS = 0.04421676673548063\n",
            "TESTING ACCURACY = 0.9896\n",
            "------------------------------------\n",
            "-----------EPOCH 17------------\n",
            "TRAINING LOSS = 0.007675425169603993\n",
            "TRAINING ACCURACY = 0.9973\n",
            "TEST LOSS = 0.04220023493489862\n",
            "TESTING ACCURACY = 0.9894\n",
            "------------------------------------\n",
            "-----------EPOCH 18------------\n",
            "TRAINING LOSS = 0.007659372728873374\n",
            "TRAINING ACCURACY = 0.9973\n",
            "TEST LOSS = 0.03702731547804433\n",
            "TESTING ACCURACY = 0.9906\n",
            "------------------------------------\n",
            "-----------EPOCH 19------------\n",
            "TRAINING LOSS = 0.00716977455836324\n",
            "TRAINING ACCURACY = 0.9977166666666667\n",
            "TEST LOSS = 0.050009202384208036\n",
            "TESTING ACCURACY = 0.9888\n",
            "------------------------------------\n",
            "-----------EPOCH 20------------\n",
            "TRAINING LOSS = 0.006820985570978925\n",
            "TRAINING ACCURACY = 0.9976166666666667\n",
            "TEST LOSS = 0.040929799125078714\n",
            "TESTING ACCURACY = 0.99\n",
            "------------------------------------\n",
            "-----------EPOCH 21------------\n",
            "TRAINING LOSS = 0.0064995835485297\n",
            "TRAINING ACCURACY = 0.9976666666666667\n",
            "TEST LOSS = 0.04303575977690798\n",
            "TESTING ACCURACY = 0.9896\n",
            "------------------------------------\n",
            "-----------EPOCH 22------------\n",
            "TRAINING LOSS = 0.006675937176787936\n",
            "TRAINING ACCURACY = 0.9976166666666667\n",
            "TEST LOSS = 0.03840093278020504\n",
            "TESTING ACCURACY = 0.9911\n",
            "------------------------------------\n",
            "-----------EPOCH 23------------\n",
            "TRAINING LOSS = 0.0046664377325456976\n",
            "TRAINING ACCURACY = 0.9982833333333333\n",
            "TEST LOSS = 0.04445767507384517\n",
            "TESTING ACCURACY = 0.9903\n",
            "------------------------------------\n",
            "-----------EPOCH 24------------\n",
            "TRAINING LOSS = 0.00555079810191008\n",
            "TRAINING ACCURACY = 0.9982\n",
            "TEST LOSS = 0.04522489242895972\n",
            "TESTING ACCURACY = 0.9892\n",
            "------------------------------------\n",
            "-----------EPOCH 25------------\n",
            "TRAINING LOSS = 0.005142300584847135\n",
            "TRAINING ACCURACY = 0.9982166666666666\n",
            "TEST LOSS = 0.04947904391106363\n",
            "TESTING ACCURACY = 0.9903\n",
            "------------------------------------\n",
            "-----------EPOCH 26------------\n",
            "TRAINING LOSS = 0.005841548876292251\n",
            "TRAINING ACCURACY = 0.99805\n",
            "TEST LOSS = 0.05128307521851639\n",
            "TESTING ACCURACY = 0.9886\n",
            "------------------------------------\n",
            "-----------EPOCH 27------------\n",
            "TRAINING LOSS = 0.004548150130979944\n",
            "TRAINING ACCURACY = 0.9985\n",
            "TEST LOSS = 0.05642484142771991\n",
            "TESTING ACCURACY = 0.9895\n",
            "------------------------------------\n",
            "-----------EPOCH 28------------\n",
            "TRAINING LOSS = 0.00485991442392501\n",
            "TRAINING ACCURACY = 0.9983666666666666\n",
            "TEST LOSS = 0.05225358299741231\n",
            "TESTING ACCURACY = 0.9905\n",
            "------------------------------------\n",
            "-----------EPOCH 29------------\n",
            "TRAINING LOSS = 0.005596840700953856\n",
            "TRAINING ACCURACY = 0.9982666666666666\n",
            "TEST LOSS = 0.03962368308323676\n",
            "TESTING ACCURACY = 0.9905\n",
            "------------------------------------\n",
            "-----------EPOCH 30------------\n",
            "TRAINING LOSS = 0.004948028252196082\n",
            "TRAINING ACCURACY = 0.9983166666666666\n",
            "TEST LOSS = 0.042325120583752776\n",
            "TESTING ACCURACY = 0.9904\n",
            "------------------------------------\n",
            "-----------EPOCH 31------------\n",
            "TRAINING LOSS = 0.003417531336831227\n",
            "TRAINING ACCURACY = 0.999\n",
            "TEST LOSS = 0.043760611291741046\n",
            "TESTING ACCURACY = 0.9907\n",
            "------------------------------------\n",
            "-----------EPOCH 32------------\n",
            "TRAINING LOSS = 0.004150531312824673\n",
            "TRAINING ACCURACY = 0.9987333333333334\n",
            "TEST LOSS = 0.051573560672886744\n",
            "TESTING ACCURACY = 0.9904\n",
            "------------------------------------\n",
            "-----------EPOCH 33------------\n",
            "TRAINING LOSS = 0.004447570440734315\n",
            "TRAINING ACCURACY = 0.99875\n",
            "TEST LOSS = 0.042436194013212115\n",
            "TESTING ACCURACY = 0.9907\n",
            "------------------------------------\n",
            "-----------EPOCH 34------------\n",
            "TRAINING LOSS = 0.004122425146779491\n",
            "TRAINING ACCURACY = 0.9986\n",
            "TEST LOSS = 0.0515371461816494\n",
            "TESTING ACCURACY = 0.9904\n",
            "------------------------------------\n",
            "-----------EPOCH 35------------\n",
            "TRAINING LOSS = 0.004101103179407666\n",
            "TRAINING ACCURACY = 0.9987833333333334\n",
            "TEST LOSS = 0.04827380468711112\n",
            "TESTING ACCURACY = 0.9913\n",
            "------------------------------------\n",
            "-----------EPOCH 36------------\n",
            "TRAINING LOSS = 0.004032013845756192\n",
            "TRAINING ACCURACY = 0.9987166666666667\n",
            "TEST LOSS = 0.05601901620090416\n",
            "TESTING ACCURACY = 0.9898\n",
            "------------------------------------\n",
            "-----------EPOCH 37------------\n",
            "TRAINING LOSS = 0.004163963552168746\n",
            "TRAINING ACCURACY = 0.9986\n",
            "TEST LOSS = 0.05433302670724288\n",
            "TESTING ACCURACY = 0.9902\n",
            "------------------------------------\n",
            "-----------EPOCH 38------------\n",
            "TRAINING LOSS = 0.0026449230247761334\n",
            "TRAINING ACCURACY = 0.9992333333333333\n",
            "TEST LOSS = 0.05435478559013831\n",
            "TESTING ACCURACY = 0.9902\n",
            "------------------------------------\n",
            "-----------EPOCH 39------------\n",
            "TRAINING LOSS = 0.004570753612799763\n",
            "TRAINING ACCURACY = 0.9986166666666667\n",
            "TEST LOSS = 0.05884082193018239\n",
            "TESTING ACCURACY = 0.9896\n",
            "------------------------------------\n",
            "-----------EPOCH 40------------\n",
            "TRAINING LOSS = 0.0042603152327286035\n",
            "TRAINING ACCURACY = 0.9985666666666667\n",
            "TEST LOSS = 0.06380932632302631\n",
            "TESTING ACCURACY = 0.9882\n",
            "------------------------------------\n",
            "-----------EPOCH 41------------\n",
            "TRAINING LOSS = 0.00483893643062693\n",
            "TRAINING ACCURACY = 0.9985166666666667\n",
            "TEST LOSS = 0.05103095285365271\n",
            "TESTING ACCURACY = 0.9907\n",
            "------------------------------------\n",
            "-----------EPOCH 42------------\n",
            "TRAINING LOSS = 0.003290635030970345\n",
            "TRAINING ACCURACY = 0.9989666666666667\n",
            "TEST LOSS = 0.05177132726674614\n",
            "TESTING ACCURACY = 0.9906\n",
            "------------------------------------\n",
            "-----------EPOCH 43------------\n",
            "TRAINING LOSS = 0.003413708895272312\n",
            "TRAINING ACCURACY = 0.9989833333333333\n",
            "TEST LOSS = 0.046852379103261226\n",
            "TESTING ACCURACY = 0.9906\n",
            "------------------------------------\n",
            "-----------EPOCH 44------------\n",
            "TRAINING LOSS = 0.002665837114733769\n",
            "TRAINING ACCURACY = 0.9991166666666667\n",
            "TEST LOSS = 0.06165843565516298\n",
            "TESTING ACCURACY = 0.9899\n",
            "------------------------------------\n",
            "-----------EPOCH 45------------\n",
            "TRAINING LOSS = 0.003650331594992693\n",
            "TRAINING ACCURACY = 0.9988166666666667\n",
            "TEST LOSS = 0.05242674042415956\n",
            "TESTING ACCURACY = 0.9905\n",
            "------------------------------------\n",
            "-----------EPOCH 46------------\n",
            "TRAINING LOSS = 0.002579896710548001\n",
            "TRAINING ACCURACY = 0.99915\n",
            "TEST LOSS = 0.05140105822531041\n",
            "TESTING ACCURACY = 0.9909\n",
            "------------------------------------\n",
            "-----------EPOCH 47------------\n",
            "TRAINING LOSS = 0.0033008932304889704\n",
            "TRAINING ACCURACY = 0.9987833333333334\n",
            "TEST LOSS = 0.06736255852950762\n",
            "TESTING ACCURACY = 0.9901\n",
            "------------------------------------\n",
            "-----------EPOCH 48------------\n",
            "TRAINING LOSS = 0.0032737619015596278\n",
            "TRAINING ACCURACY = 0.9989166666666667\n",
            "TEST LOSS = 0.06631373846636407\n",
            "TESTING ACCURACY = 0.9899\n",
            "------------------------------------\n",
            "-----------EPOCH 49------------\n",
            "TRAINING LOSS = 0.003734944729054342\n",
            "TRAINING ACCURACY = 0.99885\n",
            "TEST LOSS = 0.05978922120521133\n",
            "TESTING ACCURACY = 0.9899\n",
            "------------------------------------\n",
            "-----------EPOCH 50------------\n",
            "TRAINING LOSS = 0.003502302167535357\n",
            "TRAINING ACCURACY = 0.9990666666666667\n",
            "TEST LOSS = 0.04939355109681287\n",
            "TESTING ACCURACY = 0.9916\n",
            "------------------------------------\n"
          ],
          "name": "stdout"
        }
      ]
    },
    {
      "cell_type": "code",
      "metadata": {
        "id": "MOSABOwUHf6X",
        "outputId": "fa86c3b3-f740-4725-9f8f-09b4209ac42e",
        "colab": {
          "base_uri": "https://localhost:8080/",
          "height": 279
        }
      },
      "source": [
        "plt.plot(range(1,epochs+1),train_loss)\n",
        "plt.xlabel('EPOCHS')\n",
        "plt.ylabel('TRAINING LOSS')\n",
        "plt.grid()\n",
        "plt.show()"
      ],
      "execution_count": null,
      "outputs": [
        {
          "output_type": "display_data",
          "data": {
            "image/png": "[encoded data removed]",
            "text/plain": [
              "<Figure size 432x288 with 1 Axes>"
            ]
          },
          "metadata": {
            "tags": [],
            "needs_background": "light"
          }
        }
      ]
    },
    {
      "cell_type": "code",
      "metadata": {
        "id": "zGl3NRZwlWHj",
        "outputId": "c9e17995-f967-4c0f-8e8a-1fc7baf47d59",
        "colab": {
          "base_uri": "https://localhost:8080/",
          "height": 279
        }
      },
      "source": [
        "plt.plot(range(1,epochs+1),test_loss)\n",
        "plt.xlabel('EPOCHS')\n",
        "plt.ylabel('TESTING LOSS')\n",
        "plt.grid()\n",
        "plt.show()"
      ],
      "execution_count": null,
      "outputs": [
        {
          "output_type": "display_data",
          "data": {
            "image/png": "[encoded data removed]",
            "text/plain": [
              "<Figure size 432x288 with 1 Axes>"
            ]
          },
          "metadata": {
            "tags": [],
            "needs_background": "light"
          }
        }
      ]
    },
    {
      "cell_type": "code",
      "metadata": {
        "id": "wPn7MIA1Hsq9",
        "outputId": "3a4addd9-e591-4a2e-eaf3-fab7f5a536a7",
        "colab": {
          "base_uri": "https://localhost:8080/",
          "height": 279
        }
      },
      "source": [
        "plt.plot(range(1,epochs+1),train_acc)\n",
        "plt.xlabel('EPOCHS')\n",
        "plt.ylabel('TRAINING ACCURACY')\n",
        "plt.grid()\n",
        "plt.show()"
      ],
      "execution_count": null,
      "outputs": [
        {
          "output_type": "display_data",
          "data": {
            "image/png": "[encoded data removed]",
            "text/plain": [
              "<Figure size 432x288 with 1 Axes>"
            ]
          },
          "metadata": {
            "tags": [],
            "needs_background": "light"
          }
        }
      ]
    },
    {
      "cell_type": "code",
      "metadata": {
        "id": "agkFoouNlb-B",
        "outputId": "8bcb5a4b-71e2-4784-daaf-8def6b2a01e8",
        "colab": {
          "base_uri": "https://localhost:8080/",
          "height": 279
        }
      },
      "source": [
        "plt.plot(range(1,epochs+1),test_acc)\n",
        "plt.xlabel('EPOCHS')\n",
        "plt.ylabel('TESTING ACCURACY')\n",
        "plt.grid()\n",
        "plt.show()"
      ],
      "execution_count": null,
      "outputs": [
        {
          "output_type": "display_data",
          "data": {
            "image/png": "[encoded data removed]",
            "text/plain": [
              "<Figure size 432x288 with 1 Axes>"
            ]
          },
          "metadata": {
            "tags": [],
            "needs_background": "light"
          }
        }
      ]
    }
  ]
}